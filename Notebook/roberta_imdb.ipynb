{
  "nbformat": 4,
  "nbformat_minor": 0,
  "metadata": {
    "colab": {
      "name": "roberta_imdb.ipynb",
      "provenance": [],
      "collapsed_sections": [],
      "toc_visible": true,
      "include_colab_link": true
    },
    "kernelspec": {
      "name": "python3",
      "display_name": "Python 3"
    },
    "accelerator": "GPU",
    "widgets": {
      "application/vnd.jupyter.widget-state+json": {
        "60578f5abe20430eb70b16b03da4eec7": {
          "model_module": "@jupyter-widgets/controls",
          "model_name": "HBoxModel",
          "state": {
            "_view_name": "HBoxView",
            "_dom_classes": [],
            "_model_name": "HBoxModel",
            "_view_module": "@jupyter-widgets/controls",
            "_model_module_version": "1.5.0",
            "_view_count": null,
            "_view_module_version": "1.5.0",
            "box_style": "",
            "layout": "IPY_MODEL_211a3f55b4aa4f83be8045969b042c95",
            "_model_module": "@jupyter-widgets/controls",
            "children": [
              "IPY_MODEL_fe020753303947868ecc34a20543783b",
              "IPY_MODEL_7c1836455ce4476e88b1de66eb17693d"
            ]
          }
        },
        "211a3f55b4aa4f83be8045969b042c95": {
          "model_module": "@jupyter-widgets/base",
          "model_name": "LayoutModel",
          "state": {
            "_view_name": "LayoutView",
            "grid_template_rows": null,
            "right": null,
            "justify_content": null,
            "_view_module": "@jupyter-widgets/base",
            "overflow": null,
            "_model_module_version": "1.2.0",
            "_view_count": null,
            "flex_flow": null,
            "width": null,
            "min_width": null,
            "border": null,
            "align_items": null,
            "bottom": null,
            "_model_module": "@jupyter-widgets/base",
            "top": null,
            "grid_column": null,
            "overflow_y": null,
            "overflow_x": null,
            "grid_auto_flow": null,
            "grid_area": null,
            "grid_template_columns": null,
            "flex": null,
            "_model_name": "LayoutModel",
            "justify_items": null,
            "grid_row": null,
            "max_height": null,
            "align_content": null,
            "visibility": null,
            "align_self": null,
            "height": null,
            "min_height": null,
            "padding": null,
            "grid_auto_rows": null,
            "grid_gap": null,
            "max_width": null,
            "order": null,
            "_view_module_version": "1.2.0",
            "grid_template_areas": null,
            "object_position": null,
            "object_fit": null,
            "grid_auto_columns": null,
            "margin": null,
            "display": null,
            "left": null
          }
        },
        "fe020753303947868ecc34a20543783b": {
          "model_module": "@jupyter-widgets/controls",
          "model_name": "FloatProgressModel",
          "state": {
            "_view_name": "ProgressView",
            "style": "IPY_MODEL_2a8668f12e0b4047b61239b50adeec76",
            "_dom_classes": [],
            "description": "Downloading: 100%",
            "_model_name": "FloatProgressModel",
            "bar_style": "success",
            "max": 481,
            "_view_module": "@jupyter-widgets/controls",
            "_model_module_version": "1.5.0",
            "value": 481,
            "_view_count": null,
            "_view_module_version": "1.5.0",
            "orientation": "horizontal",
            "min": 0,
            "description_tooltip": null,
            "_model_module": "@jupyter-widgets/controls",
            "layout": "IPY_MODEL_8dfec57cb03449eb99a12e7e21cd7447"
          }
        },
        "7c1836455ce4476e88b1de66eb17693d": {
          "model_module": "@jupyter-widgets/controls",
          "model_name": "HTMLModel",
          "state": {
            "_view_name": "HTMLView",
            "style": "IPY_MODEL_18834d6df42f4ea9ae3a61050ee05010",
            "_dom_classes": [],
            "description": "",
            "_model_name": "HTMLModel",
            "placeholder": "​",
            "_view_module": "@jupyter-widgets/controls",
            "_model_module_version": "1.5.0",
            "value": " 481/481 [00:00&lt;00:00, 1.91kB/s]",
            "_view_count": null,
            "_view_module_version": "1.5.0",
            "description_tooltip": null,
            "_model_module": "@jupyter-widgets/controls",
            "layout": "IPY_MODEL_7deeb34662204fe98dbe76279c6cc7db"
          }
        },
        "2a8668f12e0b4047b61239b50adeec76": {
          "model_module": "@jupyter-widgets/controls",
          "model_name": "ProgressStyleModel",
          "state": {
            "_view_name": "StyleView",
            "_model_name": "ProgressStyleModel",
            "description_width": "initial",
            "_view_module": "@jupyter-widgets/base",
            "_model_module_version": "1.5.0",
            "_view_count": null,
            "_view_module_version": "1.2.0",
            "bar_color": null,
            "_model_module": "@jupyter-widgets/controls"
          }
        },
        "8dfec57cb03449eb99a12e7e21cd7447": {
          "model_module": "@jupyter-widgets/base",
          "model_name": "LayoutModel",
          "state": {
            "_view_name": "LayoutView",
            "grid_template_rows": null,
            "right": null,
            "justify_content": null,
            "_view_module": "@jupyter-widgets/base",
            "overflow": null,
            "_model_module_version": "1.2.0",
            "_view_count": null,
            "flex_flow": null,
            "width": null,
            "min_width": null,
            "border": null,
            "align_items": null,
            "bottom": null,
            "_model_module": "@jupyter-widgets/base",
            "top": null,
            "grid_column": null,
            "overflow_y": null,
            "overflow_x": null,
            "grid_auto_flow": null,
            "grid_area": null,
            "grid_template_columns": null,
            "flex": null,
            "_model_name": "LayoutModel",
            "justify_items": null,
            "grid_row": null,
            "max_height": null,
            "align_content": null,
            "visibility": null,
            "align_self": null,
            "height": null,
            "min_height": null,
            "padding": null,
            "grid_auto_rows": null,
            "grid_gap": null,
            "max_width": null,
            "order": null,
            "_view_module_version": "1.2.0",
            "grid_template_areas": null,
            "object_position": null,
            "object_fit": null,
            "grid_auto_columns": null,
            "margin": null,
            "display": null,
            "left": null
          }
        },
        "18834d6df42f4ea9ae3a61050ee05010": {
          "model_module": "@jupyter-widgets/controls",
          "model_name": "DescriptionStyleModel",
          "state": {
            "_view_name": "StyleView",
            "_model_name": "DescriptionStyleModel",
            "description_width": "",
            "_view_module": "@jupyter-widgets/base",
            "_model_module_version": "1.5.0",
            "_view_count": null,
            "_view_module_version": "1.2.0",
            "_model_module": "@jupyter-widgets/controls"
          }
        },
        "7deeb34662204fe98dbe76279c6cc7db": {
          "model_module": "@jupyter-widgets/base",
          "model_name": "LayoutModel",
          "state": {
            "_view_name": "LayoutView",
            "grid_template_rows": null,
            "right": null,
            "justify_content": null,
            "_view_module": "@jupyter-widgets/base",
            "overflow": null,
            "_model_module_version": "1.2.0",
            "_view_count": null,
            "flex_flow": null,
            "width": null,
            "min_width": null,
            "border": null,
            "align_items": null,
            "bottom": null,
            "_model_module": "@jupyter-widgets/base",
            "top": null,
            "grid_column": null,
            "overflow_y": null,
            "overflow_x": null,
            "grid_auto_flow": null,
            "grid_area": null,
            "grid_template_columns": null,
            "flex": null,
            "_model_name": "LayoutModel",
            "justify_items": null,
            "grid_row": null,
            "max_height": null,
            "align_content": null,
            "visibility": null,
            "align_self": null,
            "height": null,
            "min_height": null,
            "padding": null,
            "grid_auto_rows": null,
            "grid_gap": null,
            "max_width": null,
            "order": null,
            "_view_module_version": "1.2.0",
            "grid_template_areas": null,
            "object_position": null,
            "object_fit": null,
            "grid_auto_columns": null,
            "margin": null,
            "display": null,
            "left": null
          }
        },
        "e4e3c78a3bdd495c819d9997148147df": {
          "model_module": "@jupyter-widgets/controls",
          "model_name": "HBoxModel",
          "state": {
            "_view_name": "HBoxView",
            "_dom_classes": [],
            "_model_name": "HBoxModel",
            "_view_module": "@jupyter-widgets/controls",
            "_model_module_version": "1.5.0",
            "_view_count": null,
            "_view_module_version": "1.5.0",
            "box_style": "",
            "layout": "IPY_MODEL_399cd3a4896e4931868c2b510da2d0d6",
            "_model_module": "@jupyter-widgets/controls",
            "children": [
              "IPY_MODEL_d60245764fbd4bd3a72c29e80b751860",
              "IPY_MODEL_36f243eadd104116aeb5df3e0001ee5f"
            ]
          }
        },
        "399cd3a4896e4931868c2b510da2d0d6": {
          "model_module": "@jupyter-widgets/base",
          "model_name": "LayoutModel",
          "state": {
            "_view_name": "LayoutView",
            "grid_template_rows": null,
            "right": null,
            "justify_content": null,
            "_view_module": "@jupyter-widgets/base",
            "overflow": null,
            "_model_module_version": "1.2.0",
            "_view_count": null,
            "flex_flow": null,
            "width": null,
            "min_width": null,
            "border": null,
            "align_items": null,
            "bottom": null,
            "_model_module": "@jupyter-widgets/base",
            "top": null,
            "grid_column": null,
            "overflow_y": null,
            "overflow_x": null,
            "grid_auto_flow": null,
            "grid_area": null,
            "grid_template_columns": null,
            "flex": null,
            "_model_name": "LayoutModel",
            "justify_items": null,
            "grid_row": null,
            "max_height": null,
            "align_content": null,
            "visibility": null,
            "align_self": null,
            "height": null,
            "min_height": null,
            "padding": null,
            "grid_auto_rows": null,
            "grid_gap": null,
            "max_width": null,
            "order": null,
            "_view_module_version": "1.2.0",
            "grid_template_areas": null,
            "object_position": null,
            "object_fit": null,
            "grid_auto_columns": null,
            "margin": null,
            "display": null,
            "left": null
          }
        },
        "d60245764fbd4bd3a72c29e80b751860": {
          "model_module": "@jupyter-widgets/controls",
          "model_name": "FloatProgressModel",
          "state": {
            "_view_name": "ProgressView",
            "style": "IPY_MODEL_d181ab3297fb4b6c87977db433ea12c2",
            "_dom_classes": [],
            "description": "Downloading: 100%",
            "_model_name": "FloatProgressModel",
            "bar_style": "success",
            "max": 501200538,
            "_view_module": "@jupyter-widgets/controls",
            "_model_module_version": "1.5.0",
            "value": 501200538,
            "_view_count": null,
            "_view_module_version": "1.5.0",
            "orientation": "horizontal",
            "min": 0,
            "description_tooltip": null,
            "_model_module": "@jupyter-widgets/controls",
            "layout": "IPY_MODEL_17437096c3204bdd94d2967d2f6cc113"
          }
        },
        "36f243eadd104116aeb5df3e0001ee5f": {
          "model_module": "@jupyter-widgets/controls",
          "model_name": "HTMLModel",
          "state": {
            "_view_name": "HTMLView",
            "style": "IPY_MODEL_c12f82e377344d779eb129b88af76f8d",
            "_dom_classes": [],
            "description": "",
            "_model_name": "HTMLModel",
            "placeholder": "​",
            "_view_module": "@jupyter-widgets/controls",
            "_model_module_version": "1.5.0",
            "value": " 501M/501M [00:07&lt;00:00, 63.7MB/s]",
            "_view_count": null,
            "_view_module_version": "1.5.0",
            "description_tooltip": null,
            "_model_module": "@jupyter-widgets/controls",
            "layout": "IPY_MODEL_9c2662bf7e144db4942e4f9d60c07182"
          }
        },
        "d181ab3297fb4b6c87977db433ea12c2": {
          "model_module": "@jupyter-widgets/controls",
          "model_name": "ProgressStyleModel",
          "state": {
            "_view_name": "StyleView",
            "_model_name": "ProgressStyleModel",
            "description_width": "initial",
            "_view_module": "@jupyter-widgets/base",
            "_model_module_version": "1.5.0",
            "_view_count": null,
            "_view_module_version": "1.2.0",
            "bar_color": null,
            "_model_module": "@jupyter-widgets/controls"
          }
        },
        "17437096c3204bdd94d2967d2f6cc113": {
          "model_module": "@jupyter-widgets/base",
          "model_name": "LayoutModel",
          "state": {
            "_view_name": "LayoutView",
            "grid_template_rows": null,
            "right": null,
            "justify_content": null,
            "_view_module": "@jupyter-widgets/base",
            "overflow": null,
            "_model_module_version": "1.2.0",
            "_view_count": null,
            "flex_flow": null,
            "width": null,
            "min_width": null,
            "border": null,
            "align_items": null,
            "bottom": null,
            "_model_module": "@jupyter-widgets/base",
            "top": null,
            "grid_column": null,
            "overflow_y": null,
            "overflow_x": null,
            "grid_auto_flow": null,
            "grid_area": null,
            "grid_template_columns": null,
            "flex": null,
            "_model_name": "LayoutModel",
            "justify_items": null,
            "grid_row": null,
            "max_height": null,
            "align_content": null,
            "visibility": null,
            "align_self": null,
            "height": null,
            "min_height": null,
            "padding": null,
            "grid_auto_rows": null,
            "grid_gap": null,
            "max_width": null,
            "order": null,
            "_view_module_version": "1.2.0",
            "grid_template_areas": null,
            "object_position": null,
            "object_fit": null,
            "grid_auto_columns": null,
            "margin": null,
            "display": null,
            "left": null
          }
        },
        "c12f82e377344d779eb129b88af76f8d": {
          "model_module": "@jupyter-widgets/controls",
          "model_name": "DescriptionStyleModel",
          "state": {
            "_view_name": "StyleView",
            "_model_name": "DescriptionStyleModel",
            "description_width": "",
            "_view_module": "@jupyter-widgets/base",
            "_model_module_version": "1.5.0",
            "_view_count": null,
            "_view_module_version": "1.2.0",
            "_model_module": "@jupyter-widgets/controls"
          }
        },
        "9c2662bf7e144db4942e4f9d60c07182": {
          "model_module": "@jupyter-widgets/base",
          "model_name": "LayoutModel",
          "state": {
            "_view_name": "LayoutView",
            "grid_template_rows": null,
            "right": null,
            "justify_content": null,
            "_view_module": "@jupyter-widgets/base",
            "overflow": null,
            "_model_module_version": "1.2.0",
            "_view_count": null,
            "flex_flow": null,
            "width": null,
            "min_width": null,
            "border": null,
            "align_items": null,
            "bottom": null,
            "_model_module": "@jupyter-widgets/base",
            "top": null,
            "grid_column": null,
            "overflow_y": null,
            "overflow_x": null,
            "grid_auto_flow": null,
            "grid_area": null,
            "grid_template_columns": null,
            "flex": null,
            "_model_name": "LayoutModel",
            "justify_items": null,
            "grid_row": null,
            "max_height": null,
            "align_content": null,
            "visibility": null,
            "align_self": null,
            "height": null,
            "min_height": null,
            "padding": null,
            "grid_auto_rows": null,
            "grid_gap": null,
            "max_width": null,
            "order": null,
            "_view_module_version": "1.2.0",
            "grid_template_areas": null,
            "object_position": null,
            "object_fit": null,
            "grid_auto_columns": null,
            "margin": null,
            "display": null,
            "left": null
          }
        }
      }
    }
  },
  "cells": [
    {
      "cell_type": "markdown",
      "metadata": {
        "id": "view-in-github",
        "colab_type": "text"
      },
      "source": [
        "<a href=\"https://colab.research.google.com/github/ahmadkhan242/Transfer-Learning-Model-hosted-on-Heroku-using-React-Flask/blob/main/roberta_imdb.ipynb\" target=\"_parent\"><img src=\"https://colab.research.google.com/assets/colab-badge.svg\" alt=\"Open In Colab\"/></a>"
      ]
    },
    {
      "cell_type": "code",
      "metadata": {
        "id": "TZv4HHwQViVD",
        "colab": {
          "base_uri": "https://localhost:8080/"
        },
        "outputId": "ca15b656-df6d-41a7-ec00-936befcbbd94"
      },
      "source": [
        "! pip install transformers"
      ],
      "execution_count": 4,
      "outputs": [
        {
          "output_type": "stream",
          "text": [
            "Collecting transformers\n",
            "\u001b[?25l  Downloading https://files.pythonhosted.org/packages/99/84/7bc03215279f603125d844bf81c3fb3f2d50fe8e511546eb4897e4be2067/transformers-4.0.0-py3-none-any.whl (1.4MB)\n",
            "\u001b[K     |████████████████████████████████| 1.4MB 7.9MB/s \n",
            "\u001b[?25hRequirement already satisfied: packaging in /usr/local/lib/python3.6/dist-packages (from transformers) (20.4)\n",
            "Collecting tokenizers==0.9.4\n",
            "\u001b[?25l  Downloading https://files.pythonhosted.org/packages/0f/1c/e789a8b12e28be5bc1ce2156cf87cb522b379be9cadc7ad8091a4cc107c4/tokenizers-0.9.4-cp36-cp36m-manylinux2010_x86_64.whl (2.9MB)\n",
            "\u001b[K     |████████████████████████████████| 2.9MB 29.5MB/s \n",
            "\u001b[?25hRequirement already satisfied: requests in /usr/local/lib/python3.6/dist-packages (from transformers) (2.23.0)\n",
            "Requirement already satisfied: dataclasses; python_version < \"3.7\" in /usr/local/lib/python3.6/dist-packages (from transformers) (0.8)\n",
            "Requirement already satisfied: numpy in /usr/local/lib/python3.6/dist-packages (from transformers) (1.18.5)\n",
            "Requirement already satisfied: tqdm>=4.27 in /usr/local/lib/python3.6/dist-packages (from transformers) (4.41.1)\n",
            "Requirement already satisfied: filelock in /usr/local/lib/python3.6/dist-packages (from transformers) (3.0.12)\n",
            "Collecting sacremoses\n",
            "\u001b[?25l  Downloading https://files.pythonhosted.org/packages/7d/34/09d19aff26edcc8eb2a01bed8e98f13a1537005d31e95233fd48216eed10/sacremoses-0.0.43.tar.gz (883kB)\n",
            "\u001b[K     |████████████████████████████████| 890kB 49.9MB/s \n",
            "\u001b[?25hRequirement already satisfied: regex!=2019.12.17 in /usr/local/lib/python3.6/dist-packages (from transformers) (2019.12.20)\n",
            "Requirement already satisfied: pyparsing>=2.0.2 in /usr/local/lib/python3.6/dist-packages (from packaging->transformers) (2.4.7)\n",
            "Requirement already satisfied: six in /usr/local/lib/python3.6/dist-packages (from packaging->transformers) (1.15.0)\n",
            "Requirement already satisfied: idna<3,>=2.5 in /usr/local/lib/python3.6/dist-packages (from requests->transformers) (2.10)\n",
            "Requirement already satisfied: certifi>=2017.4.17 in /usr/local/lib/python3.6/dist-packages (from requests->transformers) (2020.11.8)\n",
            "Requirement already satisfied: chardet<4,>=3.0.2 in /usr/local/lib/python3.6/dist-packages (from requests->transformers) (3.0.4)\n",
            "Requirement already satisfied: urllib3!=1.25.0,!=1.25.1,<1.26,>=1.21.1 in /usr/local/lib/python3.6/dist-packages (from requests->transformers) (1.24.3)\n",
            "Requirement already satisfied: click in /usr/local/lib/python3.6/dist-packages (from sacremoses->transformers) (7.1.2)\n",
            "Requirement already satisfied: joblib in /usr/local/lib/python3.6/dist-packages (from sacremoses->transformers) (0.17.0)\n",
            "Building wheels for collected packages: sacremoses\n",
            "  Building wheel for sacremoses (setup.py) ... \u001b[?25l\u001b[?25hdone\n",
            "  Created wheel for sacremoses: filename=sacremoses-0.0.43-cp36-none-any.whl size=893257 sha256=d18d278caa68fd0014883af36b2b07a938abb5e388655f4bb96c7778c439227a\n",
            "  Stored in directory: /root/.cache/pip/wheels/29/3c/fd/7ce5c3f0666dab31a50123635e6fb5e19ceb42ce38d4e58f45\n",
            "Successfully built sacremoses\n",
            "Installing collected packages: tokenizers, sacremoses, transformers\n",
            "Successfully installed sacremoses-0.0.43 tokenizers-0.9.4 transformers-4.0.0\n"
          ],
          "name": "stdout"
        }
      ]
    },
    {
      "cell_type": "markdown",
      "metadata": {
        "id": "d4P9Cm7_A8nA"
      },
      "source": [
        "Importing library "
      ]
    },
    {
      "cell_type": "code",
      "metadata": {
        "id": "5Lt4qKXnVqJW"
      },
      "source": [
        "import numpy as np\n",
        "import matplotlib.pyplot as plt\n",
        "import seaborn as sns\n",
        "import pandas as pd\n",
        "\n",
        "from sklearn.metrics import accuracy_score, classification_report, confusion_matrix\n",
        "\n",
        "import torch\n",
        "from torchtext.data import Field, TabularDataset, BucketIterator, Iterator\n",
        "\n",
        "from transformers import RobertaTokenizer, RobertaModel, AdamW, get_linear_schedule_with_warmup\n",
        "\n",
        "import warnings\n",
        "warnings.filterwarnings('ignore')\n",
        "from tqdm import tqdm\n",
        "\n",
        "import logging\n",
        "logging.getLogger(\"transformers.tokenization_utils_base\").setLevel(logging.ERROR)\n",
        "\n",
        "import csv\n"
      ],
      "execution_count": 5,
      "outputs": []
    },
    {
      "cell_type": "markdown",
      "metadata": {
        "id": "g_MsbdhqCSSY"
      },
      "source": [
        "## Dataset\n",
        "### You can download Dataset from [GithHub repo](https://github.com/ahmadkhan242/Transfer-learning-in-NLP-using-RoBERTA)"
      ]
    },
    {
      "cell_type": "code",
      "metadata": {
        "colab": {
          "base_uri": "https://localhost:8080/"
        },
        "id": "GSwPlO0Ji_0T",
        "outputId": "6eda360e-b03b-4b32-ee4e-1e6ffc1bc18d"
      },
      "source": [
        "! wget https://github.com/ahmadkhan242/Transfer-Learning-Model-hosted-on-Heroku-using-React-Flask/raw/main/Dataset/IMDB_prePro.csv"
      ],
      "execution_count": 1,
      "outputs": [
        {
          "output_type": "stream",
          "text": [
            "--2020-11-30 19:06:44--  https://github.com/ahmadkhan242/Transfer-Learning-Model-hosted-on-Heroku-using-React-Flask/raw/main/Dataset/IMDB_prePro.csv\n",
            "Resolving github.com (github.com)... 192.30.255.112\n",
            "Connecting to github.com (github.com)|192.30.255.112|:443... connected.\n",
            "HTTP request sent, awaiting response... 302 Found\n",
            "Location: https://raw.githubusercontent.com/ahmadkhan242/Transfer-Learning-Model-hosted-on-Heroku-using-React-Flask/main/Dataset/IMDB_prePro.csv [following]\n",
            "--2020-11-30 19:06:44--  https://raw.githubusercontent.com/ahmadkhan242/Transfer-Learning-Model-hosted-on-Heroku-using-React-Flask/main/Dataset/IMDB_prePro.csv\n",
            "Resolving raw.githubusercontent.com (raw.githubusercontent.com)... 151.101.0.133, 151.101.64.133, 151.101.128.133, ...\n",
            "Connecting to raw.githubusercontent.com (raw.githubusercontent.com)|151.101.0.133|:443... connected.\n",
            "HTTP request sent, awaiting response... 200 OK\n",
            "Length: 48342774 (46M) [text/plain]\n",
            "Saving to: ‘IMDB_prePro.csv’\n",
            "\n",
            "IMDB_prePro.csv     100%[===================>]  46.10M  93.1MB/s    in 0.5s    \n",
            "\n",
            "2020-11-30 19:06:46 (93.1 MB/s) - ‘IMDB_prePro.csv’ saved [48342774/48342774]\n",
            "\n"
          ],
          "name": "stdout"
        }
      ]
    },
    {
      "cell_type": "code",
      "metadata": {
        "id": "c5AFtt06V8KY"
      },
      "source": [
        "pre = pd.read_csv(\"./IMDB_prePro.csv\")"
      ],
      "execution_count": 6,
      "outputs": []
    },
    {
      "cell_type": "code",
      "metadata": {
        "id": "mH9xGgmLWE4L",
        "colab": {
          "base_uri": "https://localhost:8080/",
          "height": 198
        },
        "outputId": "be4d88a4-b64c-4b7f-f446-bd5a852fa36b"
      },
      "source": [
        "pre.head()"
      ],
      "execution_count": 7,
      "outputs": [
        {
          "output_type": "execute_result",
          "data": {
            "text/html": [
              "<div>\n",
              "<style scoped>\n",
              "    .dataframe tbody tr th:only-of-type {\n",
              "        vertical-align: middle;\n",
              "    }\n",
              "\n",
              "    .dataframe tbody tr th {\n",
              "        vertical-align: top;\n",
              "    }\n",
              "\n",
              "    .dataframe thead th {\n",
              "        text-align: right;\n",
              "    }\n",
              "</style>\n",
              "<table border=\"1\" class=\"dataframe\">\n",
              "  <thead>\n",
              "    <tr style=\"text-align: right;\">\n",
              "      <th></th>\n",
              "      <th>Unnamed: 0</th>\n",
              "      <th>review</th>\n",
              "      <th>sentiment</th>\n",
              "    </tr>\n",
              "  </thead>\n",
              "  <tbody>\n",
              "    <tr>\n",
              "      <th>0</th>\n",
              "      <td>0</td>\n",
              "      <td>one reviewers mentioned watching &lt;number&gt; oz e...</td>\n",
              "      <td>positive</td>\n",
              "    </tr>\n",
              "    <tr>\n",
              "      <th>1</th>\n",
              "      <td>1</td>\n",
              "      <td>wonderful little production . &lt; br / &gt; &lt; br / ...</td>\n",
              "      <td>positive</td>\n",
              "    </tr>\n",
              "    <tr>\n",
              "      <th>2</th>\n",
              "      <td>2</td>\n",
              "      <td>thought wonderful way spend time hot summer we...</td>\n",
              "      <td>positive</td>\n",
              "    </tr>\n",
              "    <tr>\n",
              "      <th>3</th>\n",
              "      <td>3</td>\n",
              "      <td>basically there's family little boy ( jake ) t...</td>\n",
              "      <td>negative</td>\n",
              "    </tr>\n",
              "    <tr>\n",
              "      <th>4</th>\n",
              "      <td>4</td>\n",
              "      <td>petter mattei's \" love time money \" visually s...</td>\n",
              "      <td>positive</td>\n",
              "    </tr>\n",
              "  </tbody>\n",
              "</table>\n",
              "</div>"
            ],
            "text/plain": [
              "   Unnamed: 0                                             review sentiment\n",
              "0           0  one reviewers mentioned watching <number> oz e...  positive\n",
              "1           1  wonderful little production . < br / > < br / ...  positive\n",
              "2           2  thought wonderful way spend time hot summer we...  positive\n",
              "3           3  basically there's family little boy ( jake ) t...  negative\n",
              "4           4  petter mattei's \" love time money \" visually s...  positive"
            ]
          },
          "metadata": {
            "tags": []
          },
          "execution_count": 7
        }
      ]
    },
    {
      "cell_type": "markdown",
      "metadata": {
        "id": "o1lLn_UqCevS"
      },
      "source": [
        "## Setting seed and device"
      ]
    },
    {
      "cell_type": "code",
      "metadata": {
        "id": "Za8fggdHWFGi",
        "colab": {
          "base_uri": "https://localhost:8080/",
          "height": 34
        },
        "outputId": "6d9990be-0d93-4527-abe4-ddf9bd22ef0e"
      },
      "source": [
        "torch.manual_seed(17)\n",
        "\n",
        "if torch.cuda.is_available():\n",
        "    device = torch.device('cuda:0')\n",
        "    torch.backends.cudnn.deterministic = True\n",
        "    torch.backends.cudnn.benchmark = False\n",
        "else:\n",
        "    device = torch.device('cpu')\n",
        "\n",
        "print(device)"
      ],
      "execution_count": null,
      "outputs": [
        {
          "output_type": "stream",
          "text": [
            "cuda:0\n"
          ],
          "name": "stdout"
        }
      ]
    },
    {
      "cell_type": "markdown",
      "metadata": {
        "id": "sTFTmvpHCnhD"
      },
      "source": [
        "## Using Roterta Tokenizer from `transformers` library "
      ]
    },
    {
      "cell_type": "code",
      "metadata": {
        "id": "Pf3cfPEtWFE-"
      },
      "source": [
        "tokenizer = RobertaTokenizer.from_pretrained(\"roberta-base\")"
      ],
      "execution_count": null,
      "outputs": []
    },
    {
      "cell_type": "markdown",
      "metadata": {
        "id": "T3O6FSXeC5Gn"
      },
      "source": [
        "## Creating Train, Validation, and Test dataset using `torchtext` for pre-training "
      ]
    },
    {
      "cell_type": "code",
      "metadata": {
        "id": "RZU9yf6NWE_F"
      },
      "source": [
        "MAX_SEQ_LEN = 256\n",
        "PRE_TRAINING_TRAIN_BATCH_SIZE = 32\n",
        "PRE_TRAINING_VAL_BATCH_SIZE = 64\n",
        "PRE_TRAINING_TEST_BATCH_SIZE = 64\n",
        "PAD_INDEX = tokenizer.convert_tokens_to_ids(tokenizer.pad_token)\n",
        "UNK_INDEX = tokenizer.convert_tokens_to_ids(tokenizer.unk_token)\n",
        "PRE_TRAINING_DATASET_PATH = \"./IMDB_prePro.csv\"\n",
        "\n",
        "# Define columns to read.\n",
        "review_field = Field(use_vocab=False, \n",
        "                   tokenize=tokenizer.encode, \n",
        "                   include_lengths=False, \n",
        "                   batch_first=True,\n",
        "                   fix_length=MAX_SEQ_LEN, \n",
        "                   pad_token=PAD_INDEX, \n",
        "                   unk_token=UNK_INDEX)\n",
        "label_field = Field(sequential=False, use_vocab=False, batch_first=True)\n",
        "\n",
        "fields = {'review' : ('review', review_field), 'label' : ('label', label_field)}\n",
        "\n",
        "\n",
        "train, valid, test = TabularDataset(path=PRE_TRAINING_DATASET_PATH, \n",
        "                                                   format='CSV', \n",
        "                                                   fields=fields, \n",
        "                                                   skip_header=False).split(split_ratio=[0.70, 0.1, 0.2], \n",
        "                                                                            stratified=True, \n",
        "                                                                            strata_field='label')\n",
        "\n",
        "training_set_iter = Iterator(train, batch_size=PRE_TRAINING_TRAIN_BATCH_SIZE, device=device, train=True, shuffle=True, sort=False)\n",
        "valid_set_iter = Iterator(valid, batch_size=PRE_TRAINING_VAL_BATCH_SIZE, device=device, train=False, shuffle=False, sort=False)\n",
        "test_set_iter = Iterator(test, batch_size=PRE_TRAINING_TEST_BATCH_SIZE, device=device, train=False, shuffle=False, sort=False)"
      ],
      "execution_count": null,
      "outputs": []
    },
    {
      "cell_type": "code",
      "metadata": {
        "id": "dEig3ifdWW1C"
      },
      "source": [
        ""
      ],
      "execution_count": null,
      "outputs": []
    },
    {
      "cell_type": "markdown",
      "metadata": {
        "id": "cOxDz6xoDTxU"
      },
      "source": [
        "## Creating Model architecture using pretrained `RoBESRTa` weight from transformer library"
      ]
    },
    {
      "cell_type": "code",
      "metadata": {
        "id": "m9dsGR8rWW4y"
      },
      "source": [
        "# Model with extra layers on top of RoBERTa\n",
        "class ROBERTA(torch.nn.Module):\n",
        "    def __init__(self, dropout_rate=0.3):\n",
        "        super(ROBERTA, self).__init__()\n",
        "        \n",
        "        self.roberta = RobertaModel.from_pretrained('roberta-base')\n",
        "        self.d1 = torch.nn.Dropout(dropout_rate)\n",
        "        self.l1 = torch.nn.Linear(768, 256)\n",
        "        self.bn1 = torch.nn.LayerNorm(256)\n",
        "        self.l2 = torch.nn.Linear(256, 64)\n",
        "        self.bn2 = torch.nn.LayerNorm(64)\n",
        "        self.d2 = torch.nn.Dropout(dropout_rate)\n",
        "        self.l3 = torch.nn.Linear(64, 2)\n",
        "        \n",
        "    def forward(self, input_ids, attention_mask):\n",
        "        _, x = self.roberta(input_ids=input_ids, attention_mask=attention_mask)\n",
        "        x = self.d1(x)\n",
        "        x = self.l1(x)\n",
        "        x = self.bn1(x)\n",
        "        x = self.l2(x)\n",
        "        x = self.bn2(x)\n",
        "        x = torch.nn.Tanh()(x)\n",
        "        x = self.d2(x)\n",
        "        x = self.l3(x)\n",
        "        \n",
        "        return x"
      ],
      "execution_count": null,
      "outputs": []
    },
    {
      "cell_type": "markdown",
      "metadata": {
        "id": "dHCKa4WqDirZ"
      },
      "source": [
        "## Defining `pretraining` function."
      ]
    },
    {
      "cell_type": "code",
      "metadata": {
        "id": "igHD79-7WW_I"
      },
      "source": [
        "train_loss_list = []\n",
        "val_loss_list = []\n",
        "epc_list = []\n",
        "\n",
        "def pretrain(model, optimizer, training_set_iter, valid_set_iter, scheduler, num_epochs):\n",
        "    \n",
        "    # Pretrain linear layers, do not train bert\n",
        "    for param in model.roberta.parameters():\n",
        "        param.requires_grad = False\n",
        "    \n",
        "    model.train()\n",
        "    \n",
        "    criterion = torch.nn.CrossEntropyLoss()\n",
        "    best_valid_loss = float('Inf')\n",
        "    \n",
        "    \n",
        "    for epoch in range(num_epochs):\n",
        "        train_loss = 0.0\n",
        "        valid_loss = 0.0 \n",
        "        for (review, label), _ in training_set_iter:\n",
        "            mask = (review != PAD_INDEX).type(torch.uint8)\n",
        "            y_pred = model(input_ids=review, attention_mask=mask)\n",
        "            loss = criterion(y_pred, label)\n",
        "            loss.backward()\n",
        "            optimizer.step()    \n",
        "            scheduler.step()\n",
        "            optimizer.zero_grad()\n",
        "            train_loss += loss.item()\n",
        "                \n",
        "        model.eval()\n",
        "        with torch.no_grad():                    \n",
        "            for (review, target), _ in valid_set_iter:\n",
        "                mask = (review != PAD_INDEX).type(torch.uint8)\n",
        "                y_pred = model(input_ids=review, attention_mask=mask)\n",
        "                loss = criterion(y_pred, target)\n",
        "                valid_loss += loss.item()\n",
        "\n",
        "        train_loss = train_loss / len(training_set_iter)\n",
        "        valid_loss = valid_loss / len(valid_set_iter)\n",
        "        \n",
        "        train_loss_list.append(train_loss)\n",
        "        val_loss_list.append(valid_loss)\n",
        "        epc_list.append(epoch)\n",
        "\n",
        "        # print summary\n",
        "        print('Epoch [{}/{}], Pre-Training Loss: {:.4f}, Val Loss: {:.4f}'\n",
        "              .format(epoch+1, num_epochs, train_loss, valid_loss))\n",
        "        if best_valid_loss > valid_loss:\n",
        "            best_valid_loss = valid_loss \n",
        "            # Saving Best Pre-Trained Model as .pth file\n",
        "            torch.save({'model_state_dict': model.state_dict()}, \"./best_pre_train_model.pth\")\n",
        "    \n",
        "    # Set bert parameters back to trainable\n",
        "    for param in model.roberta.parameters():\n",
        "        param.requires_grad = True\n",
        "     \n",
        "    \n",
        "        \n",
        "    print('Pre-training done!')"
      ],
      "execution_count": null,
      "outputs": []
    },
    {
      "cell_type": "markdown",
      "metadata": {
        "id": "PxDGb696EGqa"
      },
      "source": [
        "## Defining evaluate function to evaluate test dataset."
      ]
    },
    {
      "cell_type": "code",
      "metadata": {
        "id": "FO0Sn2Br9_j6"
      },
      "source": [
        "def evaluate(model, test_loader):\n",
        "    y_pred = []\n",
        "    y_true = []\n",
        "\n",
        "    model.eval()\n",
        "    with torch.no_grad():\n",
        "        for (source, target), _ in test_loader:\n",
        "                mask = (source != PAD_INDEX).type(torch.uint8)\n",
        "                \n",
        "                output = model(source, attention_mask=mask)\n",
        "\n",
        "                y_pred.extend(torch.argmax(output, axis=-1).tolist())\n",
        "                y_true.extend(target.tolist())\n",
        "    \n",
        "    print('Classification Report:')\n",
        "    print(classification_report(y_true, y_pred, labels=[1,0], digits=4))\n",
        "    \n",
        "    cm = confusion_matrix(y_true, y_pred, labels=[1,0])\n",
        "    ax = plt.subplot()\n",
        "\n",
        "    sns.heatmap(cm, annot=True, ax = ax, cmap='Blues', fmt=\"d\")\n",
        "\n",
        "    ax.set_title('Confusion Matrix')\n",
        "\n",
        "    ax.set_xlabel('Predicted Labels')\n",
        "    ax.set_ylabel('True Labels')\n",
        "\n",
        "    ax.xaxis.set_ticklabels(['negative', 'positive'])\n",
        "    ax.yaxis.set_ticklabels(['negative', 'positive'])"
      ],
      "execution_count": null,
      "outputs": []
    },
    {
      "cell_type": "markdown",
      "metadata": {
        "id": "S4uJ4PUDEZs5"
      },
      "source": [
        "## Initiating pre-training "
      ]
    },
    {
      "cell_type": "code",
      "metadata": {
        "id": "_DJ_f2LuWd5r",
        "colab": {
          "base_uri": "https://localhost:8080/",
          "height": 362,
          "referenced_widgets": [
            "60578f5abe20430eb70b16b03da4eec7",
            "211a3f55b4aa4f83be8045969b042c95",
            "fe020753303947868ecc34a20543783b",
            "7c1836455ce4476e88b1de66eb17693d",
            "2a8668f12e0b4047b61239b50adeec76",
            "8dfec57cb03449eb99a12e7e21cd7447",
            "18834d6df42f4ea9ae3a61050ee05010",
            "7deeb34662204fe98dbe76279c6cc7db",
            "e4e3c78a3bdd495c819d9997148147df",
            "399cd3a4896e4931868c2b510da2d0d6",
            "d60245764fbd4bd3a72c29e80b751860",
            "36f243eadd104116aeb5df3e0001ee5f",
            "d181ab3297fb4b6c87977db433ea12c2",
            "17437096c3204bdd94d2967d2f6cc113",
            "c12f82e377344d779eb129b88af76f8d",
            "9c2662bf7e144db4942e4f9d60c07182"
          ]
        },
        "outputId": "83487483-021c-4706-bb5e-131bd47ee2e9"
      },
      "source": [
        "PRE_TRAINING_NUM_EPOCHS = 12\n",
        "steps_per_epoch = len(training_set_iter)\n",
        "\n",
        "PRE_TRAINING_model = ROBERTA(0.4)\n",
        "PRE_TRAINING_model = PRE_TRAINING_model.to(device)\n",
        "\n",
        "\n",
        "PRE_TRAINING_optimizer = AdamW(PRE_TRAINING_model.parameters(), lr=1e-4)\n",
        "PRE_TRAINING_scheduler = get_linear_schedule_with_warmup(PRE_TRAINING_optimizer, \n",
        "                                            num_warmup_steps=steps_per_epoch*1, \n",
        "                                            num_training_steps=steps_per_epoch*PRE_TRAINING_NUM_EPOCHS)\n",
        "print('Pre-training starts')\n",
        "pretrain(model=PRE_TRAINING_model, training_set_iter=training_set_iter, valid_set_iter=valid_set_iter, optimizer=PRE_TRAINING_optimizer, scheduler=PRE_TRAINING_scheduler, num_epochs=PRE_TRAINING_NUM_EPOCHS)\n"
      ],
      "execution_count": null,
      "outputs": [
        {
          "output_type": "display_data",
          "data": {
            "application/vnd.jupyter.widget-view+json": {
              "model_id": "60578f5abe20430eb70b16b03da4eec7",
              "version_minor": 0,
              "version_major": 2
            },
            "text/plain": [
              "HBox(children=(FloatProgress(value=0.0, description='Downloading', max=481.0, style=ProgressStyle(description_…"
            ]
          },
          "metadata": {
            "tags": []
          }
        },
        {
          "output_type": "stream",
          "text": [
            "\n"
          ],
          "name": "stdout"
        },
        {
          "output_type": "display_data",
          "data": {
            "application/vnd.jupyter.widget-view+json": {
              "model_id": "e4e3c78a3bdd495c819d9997148147df",
              "version_minor": 0,
              "version_major": 2
            },
            "text/plain": [
              "HBox(children=(FloatProgress(value=0.0, description='Downloading', max=501200538.0, style=ProgressStyle(descri…"
            ]
          },
          "metadata": {
            "tags": []
          }
        },
        {
          "output_type": "stream",
          "text": [
            "\n",
            "Pre-training starts\n",
            "Epoch [1/12], Pre-Training Loss: 0.7078, Val Loss: 0.6827\n",
            "Epoch [2/12], Pre-Training Loss: 0.6719, Val Loss: 0.6661\n",
            "Epoch [3/12], Pre-Training Loss: 0.6372, Val Loss: 0.5521\n",
            "Epoch [4/12], Pre-Training Loss: 0.6238, Val Loss: 0.5479\n",
            "Epoch [5/12], Pre-Training Loss: 0.6145, Val Loss: 0.5420\n",
            "Epoch [6/12], Pre-Training Loss: 0.6115, Val Loss: 0.5382\n",
            "Epoch [7/12], Pre-Training Loss: 0.6029, Val Loss: 0.5256\n",
            "Epoch [8/12], Pre-Training Loss: 0.6031, Val Loss: 0.5233\n",
            "Epoch [9/12], Pre-Training Loss: 0.6003, Val Loss: 0.5229\n",
            "Epoch [10/12], Pre-Training Loss: 0.5954, Val Loss: 0.5118\n",
            "Epoch [11/12], Pre-Training Loss: 0.5956, Val Loss: 0.5125\n",
            "Epoch [12/12], Pre-Training Loss: 0.5934, Val Loss: 0.5073\n",
            "Pre-training done!\n"
          ],
          "name": "stdout"
        }
      ]
    },
    {
      "cell_type": "markdown",
      "metadata": {
        "id": "Jf7SqHLsEro9"
      },
      "source": [
        "## Ploting pre-training losses"
      ]
    },
    {
      "cell_type": "code",
      "metadata": {
        "id": "kystsiQ3Wd9I",
        "colab": {
          "base_uri": "https://localhost:8080/",
          "height": 501
        },
        "outputId": "0234dd55-7d9f-4ee4-e930-91d46006299f"
      },
      "source": [
        "plt.figure(figsize=(10, 8))\n",
        "plt.plot(epc_list, train_loss_list, label='Train')\n",
        "plt.plot(epc_list, val_loss_list, label='Valid')\n",
        "plt.xlabel('Epochs', fontsize=14)\n",
        "plt.ylabel('Loss', fontsize=14)\n",
        "plt.legend(fontsize=14)\n",
        "plt.show()"
      ],
      "execution_count": null,
      "outputs": [
        {
          "output_type": "display_data",
          "data": {
            "image/png": "[encoded data removed]",
            "text/plain": [
              "<Figure size 720x576 with 1 Axes>"
            ]
          },
          "metadata": {
            "tags": [],
            "needs_background": "light"
          }
        }
      ]
    },
    {
      "cell_type": "code",
      "metadata": {
        "id": "4opOfmb6PWNM",
        "colab": {
          "base_uri": "https://localhost:8080/",
          "height": 471
        },
        "outputId": "bfea50d7-cb75-4cb0-92fa-409979b0be16"
      },
      "source": [
        "# Evaluation matrix\n",
        "evaluate(PRE_TRAINING_model, test_set_iter)"
      ],
      "execution_count": null,
      "outputs": [
        {
          "output_type": "stream",
          "text": [
            "Classification Report:\n",
            "              precision    recall  f1-score   support\n",
            "\n",
            "           1     0.8113    0.7960    0.8036      2500\n",
            "           0     0.7998    0.8148    0.8072      2500\n",
            "\n",
            "    accuracy                         0.8054      5000\n",
            "   macro avg     0.8055    0.8054    0.8054      5000\n",
            "weighted avg     0.8055    0.8054    0.8054      5000\n",
            "\n"
          ],
          "name": "stdout"
        },
        {
          "output_type": "display_data",
          "data": {
            "image/png": "[encoded data removed]",
            "text/plain": [
              "<Figure size 432x288 with 2 Axes>"
            ]
          },
          "metadata": {
            "tags": [],
            "needs_background": "light"
          }
        }
      ]
    },
    {
      "cell_type": "code",
      "metadata": {
        "id": "Aj3xAJLMPcTj"
      },
      "source": [
        ""
      ],
      "execution_count": null,
      "outputs": []
    },
    {
      "cell_type": "markdown",
      "metadata": {
        "id": "RqDS-oYKFF0c"
      },
      "source": [
        "## Creating Train, Validation, and Test dataset using `torchtext` for Classification "
      ]
    },
    {
      "cell_type": "code",
      "metadata": {
        "id": "oLBcAJ3sWeGo"
      },
      "source": [
        "CLASSIFIER_MAX_SEQ_LEN = 256\n",
        "CLASSIFIER_TRAIN_BATCH_SIZE = 32\n",
        "CLASSIFIER_VAL_BATCH_SIZE = 64\n",
        "CLASSIFIER_TEST_BATCH_SIZE = 64\n",
        "PAD_INDEX = tokenizer.convert_tokens_to_ids(tokenizer.pad_token)\n",
        "UNK_INDEX = tokenizer.convert_tokens_to_ids(tokenizer.unk_token)\n",
        "CLASSIFIER_DATASET_PATH = \"./final_prepro.csv\"\n",
        "\n",
        "review_field = Field(use_vocab=False, \n",
        "                   tokenize=tokenizer.encode, \n",
        "                   include_lengths=False, \n",
        "                   batch_first=True,\n",
        "                   fix_length=CLASSIFIER_MAX_SEQ_LEN, \n",
        "                   pad_token=PAD_INDEX, \n",
        "                   unk_token=UNK_INDEX)\n",
        "\n",
        "label_field = Field(sequential=False, use_vocab=False, batch_first=True)\n",
        "\n",
        "fields = {'review' : ('review', review_field), 'label' : ('label', label_field)}\n",
        "\n",
        "\n",
        "train, valid, test = TabularDataset(path=CLASSIFIER_DATASET_PATH, \n",
        "                                                   format='CSV', \n",
        "                                                   fields=fields, \n",
        "                                                   skip_header=False).split(split_ratio=[0.70, 0.1, 0.2], \n",
        "                                                                            stratified=True, \n",
        "                                                                            strata_field='label')\n",
        "\n",
        "training_set_iterC = Iterator(train, batch_size=CLASSIFIER_TRAIN_BATCH_SIZE, device=device, train=True, shuffle=True, sort=False)\n",
        "valid_set_iterC = Iterator(valid, batch_size=CLASSIFIER_VAL_BATCH_SIZE, device=device, train=False, shuffle=False, sort=False)\n",
        "test_set_iterC = Iterator(test, batch_size=CLASSIFIER_TEST_BATCH_SIZE, device=device, train=False, shuffle=False, sort=False)"
      ],
      "execution_count": null,
      "outputs": []
    },
    {
      "cell_type": "markdown",
      "metadata": {
        "id": "uPr7QRUlFN5B"
      },
      "source": [
        "## Defining `Classifier` function."
      ]
    },
    {
      "cell_type": "code",
      "metadata": {
        "id": "GmGua5IeJLQF"
      },
      "source": [
        "train_loss_list = []\n",
        "val_loss_list = []\n",
        "epc_list = []\n",
        "\n",
        "def classifier(model, optimizer, training_set_iter, valid_set_iter, scheduler, num_epochs):\n",
        "    \n",
        "    # Pretrain linear layers, do not train bert\n",
        "    for param in model.roberta.parameters():\n",
        "        param.requires_grad = False\n",
        "    \n",
        "    model.train()\n",
        "    \n",
        "    # Initialize losses and loss histories\n",
        "    \n",
        "    criterion = torch.nn.CrossEntropyLoss()\n",
        "    best_valid_loss = float('Inf')\n",
        "    # Train loop\n",
        "    for epoch in range(num_epochs):\n",
        "        train_loss = 0.0\n",
        "        valid_loss = 0.0 \n",
        "        for (review, label), _ in training_set_iter:\n",
        "            mask = (review != PAD_INDEX).type(torch.uint8)\n",
        "            \n",
        "            y_pred = model(input_ids=review, attention_mask=mask)\n",
        "            \n",
        "            loss = criterion(y_pred, label)\n",
        "   \n",
        "            loss.backward()\n",
        "            \n",
        "            # Optimizer and scheduler step\n",
        "            optimizer.step()    \n",
        "            scheduler.step()\n",
        "                \n",
        "            optimizer.zero_grad()\n",
        "            \n",
        "            # Update train loss and global step\n",
        "            train_loss += loss.item()\n",
        "                \n",
        "        model.eval()\n",
        "        \n",
        "        with torch.no_grad():                    \n",
        "            for (review, target), _ in valid_set_iter:\n",
        "                mask = (review != PAD_INDEX).type(torch.uint8)\n",
        "                \n",
        "                y_pred = model(input_ids=review, attention_mask=mask)\n",
        "                \n",
        "                loss = criterion(y_pred, target)\n",
        "                \n",
        "                valid_loss += loss.item()\n",
        "\n",
        "        # Store train and validation loss history\n",
        "        train_loss = train_loss / len(training_set_iter)\n",
        "        valid_loss = valid_loss / len(valid_set_iter)\n",
        "        \n",
        "        model.train()\n",
        "        train_loss_list.append(train_loss)\n",
        "        val_loss_list.append(valid_loss)\n",
        "        epc_list.append(epoch)\n",
        "        # print summary\n",
        "        print('Epoch [{}/{}], Pre-Training Loss: {:.4f}, Val Loss: {:.4f}'\n",
        "              .format(epoch+1, num_epochs, train_loss, valid_loss))\n",
        "        if best_valid_loss > valid_loss:\n",
        "            best_valid_loss = valid_loss \n",
        "            # Saving Pre-Trained Model as .pth file\n",
        "            torch.save({'model_state_dict': model.state_dict()}, \"./final_model.pth\")\n",
        "    \n",
        "    # Set bert parameters back to trainable\n",
        "    for param in model.roberta.parameters():\n",
        "        param.requires_grad = True\n",
        "     \n",
        "    \n",
        "        \n",
        "    print('Training done!')"
      ],
      "execution_count": null,
      "outputs": []
    },
    {
      "cell_type": "markdown",
      "metadata": {
        "id": "KXw0qL9VFZQC"
      },
      "source": [
        "## Initiating classifier training"
      ]
    },
    {
      "cell_type": "code",
      "metadata": {
        "id": "yAiWa1PYJdQo",
        "colab": {
          "base_uri": "https://localhost:8080/",
          "height": 404
        },
        "outputId": "1099dc12-f8d3-4efa-8cc2-71e8cc02d8c1"
      },
      "source": [
        "CLASSIFIER_NUM_EPOCHS = 20\n",
        "steps_per_epoch = len(training_set_iter)\n",
        "\n",
        "CLASSIFIER_model = ROBERTA()\n",
        "CLASSIFIER_model = CLASSIFIER_model.to(device)\n",
        "preTrained = torch.load(\"./best_pre_train_model.pth\")\n",
        "CLASSIFIER_model.load_state_dict(preTrained, strict=False)\n",
        "\n",
        "CLASSIFIER_optimizer = AdamW(CLASSIFIER_model.parameters(), lr=1e-4)\n",
        "CLASSIFIER_scheduler = get_linear_schedule_with_warmup(CLASSIFIER_optimizer, \n",
        "                                            num_warmup_steps=steps_per_epoch*1, \n",
        "                                            num_training_steps=steps_per_epoch*CLASSIFIER_NUM_EPOCHS)\n",
        "print('Training starts')\n",
        "classifier(model=CLASSIFIER_model,optimizer=CLASSIFIER_optimizer, training_set_iter=training_set_iter, valid_set_iter=valid_set_iter,  scheduler=CLASSIFIER_scheduler, num_epochs=CLASSIFIER_NUM_EPOCHS)\n"
      ],
      "execution_count": null,
      "outputs": [
        {
          "output_type": "stream",
          "text": [
            "Training starts\n",
            "Epoch [1/20], Pre-Training Loss: 0.6994, Val Loss: 0.6873\n",
            "Epoch [2/20], Pre-Training Loss: 0.6540, Val Loss: 0.5714\n",
            "Epoch [3/20], Pre-Training Loss: 0.6154, Val Loss: 0.5508\n",
            "Epoch [4/20], Pre-Training Loss: 0.5999, Val Loss: 0.5163\n",
            "Epoch [5/20], Pre-Training Loss: 0.5934, Val Loss: 0.4926\n",
            "Epoch [6/20], Pre-Training Loss: 0.5851, Val Loss: 0.4947\n",
            "Epoch [7/20], Pre-Training Loss: 0.5845, Val Loss: 0.5087\n",
            "Epoch [8/20], Pre-Training Loss: 0.5824, Val Loss: 0.4775\n",
            "Epoch [9/20], Pre-Training Loss: 0.5819, Val Loss: 0.4998\n",
            "Epoch [10/20], Pre-Training Loss: 0.5770, Val Loss: 0.4926\n",
            "Epoch [11/20], Pre-Training Loss: 0.5781, Val Loss: 0.4747\n",
            "Epoch [12/20], Pre-Training Loss: 0.5763, Val Loss: 0.4756\n",
            "Epoch [13/20], Pre-Training Loss: 0.5690, Val Loss: 0.4764\n",
            "Epoch [14/20], Pre-Training Loss: 0.5708, Val Loss: 0.4848\n",
            "Epoch [15/20], Pre-Training Loss: 0.5735, Val Loss: 0.4795\n",
            "Epoch [16/20], Pre-Training Loss: 0.5697, Val Loss: 0.4829\n",
            "Epoch [17/20], Pre-Training Loss: 0.5659, Val Loss: 0.4636\n",
            "Epoch [18/20], Pre-Training Loss: 0.5665, Val Loss: 0.4818\n",
            "Epoch [19/20], Pre-Training Loss: 0.5647, Val Loss: 0.4735\n",
            "Epoch [20/20], Pre-Training Loss: 0.5671, Val Loss: 0.4720\n",
            "Training done!\n"
          ],
          "name": "stdout"
        }
      ]
    },
    {
      "cell_type": "markdown",
      "metadata": {
        "id": "BhyrNdJBFob1"
      },
      "source": [
        "## Ploting Classifier training losses"
      ]
    },
    {
      "cell_type": "code",
      "metadata": {
        "id": "jx7p6l8XJdTu",
        "colab": {
          "base_uri": "https://localhost:8080/",
          "height": 501
        },
        "outputId": "e9439e83-223a-42e1-c12b-9c10ef52304b"
      },
      "source": [
        "plt.figure(figsize=(10, 8))\n",
        "plt.plot(epc_list, train_loss_list, label='Train')\n",
        "plt.plot(epc_list, val_loss_list, label='Valid')\n",
        "plt.xlabel('Epochs', fontsize=14)\n",
        "plt.ylabel('Loss', fontsize=14)\n",
        "plt.legend(fontsize=14)\n",
        "plt.show()"
      ],
      "execution_count": null,
      "outputs": [
        {
          "output_type": "display_data",
          "data": {
            "image/png": "[encoded data removed]",
            "text/plain": [
              "<Figure size 720x576 with 1 Axes>"
            ]
          },
          "metadata": {
            "tags": [],
            "needs_background": "light"
          }
        }
      ]
    },
    {
      "cell_type": "markdown",
      "metadata": {
        "id": "h622IYXJFv7X"
      },
      "source": [
        "# Comparing previous f1, we have improved the f1 score"
      ]
    },
    {
      "cell_type": "code",
      "metadata": {
        "id": "i00HEXY5O37C",
        "colab": {
          "base_uri": "https://localhost:8080/",
          "height": 471
        },
        "outputId": "df760c65-6334-4a5d-8216-3c1926b5a41b"
      },
      "source": [
        "evaluate(CLASSIFIER_model, test_set_iter)"
      ],
      "execution_count": null,
      "outputs": [
        {
          "output_type": "stream",
          "text": [
            "Classification Report:\n",
            "              precision    recall  f1-score   support\n",
            "\n",
            "           1     0.8169    0.8048    0.8108      2500\n",
            "           0     0.8076    0.8196    0.8136      2500\n",
            "\n",
            "    accuracy                         0.8122      5000\n",
            "   macro avg     0.8123    0.8122    0.8122      5000\n",
            "weighted avg     0.8123    0.8122    0.8122      5000\n",
            "\n"
          ],
          "name": "stdout"
        },
        {
          "output_type": "display_data",
          "data": {
            "image/png": "[encoded data removed]",
            "text/plain": [
              "<Figure size 432x288 with 2 Axes>"
            ]
          },
          "metadata": {
            "tags": [],
            "needs_background": "light"
          }
        }
      ]
    },
    {
      "cell_type": "code",
      "metadata": {
        "id": "GlAVj2M6PLP-"
      },
      "source": [
        ""
      ],
      "execution_count": null,
      "outputs": []
    }
  ]
}